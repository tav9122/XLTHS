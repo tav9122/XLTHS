{
 "cells": [
  {
   "cell_type": "code",
   "execution_count": 4,
   "outputs": [
    {
     "name": "stdout",
     "output_type": "stream",
     "text": [
      "[0 3 5 6]\n",
      "4\n"
     ]
    }
   ],
   "source": [
    "import numpy as np\n",
    "\n",
    "a = [-5, 2, 10, 2, -1, -7, 8, -9]\n",
    "print(np.where(np.diff(np.sign(a)))[0])\n",
    "print(np.sum(np.diff(np.sign(a)) != 0))"
   ],
   "metadata": {
    "collapsed": false
   }
  },
  {
   "cell_type": "code",
   "execution_count": 3,
   "outputs": [
    {
     "name": "stdout",
     "output_type": "stream",
     "text": [
      "[False  True False]\n",
      "2\n"
     ]
    }
   ],
   "source": [
    "e = np.array([2, 0, 3])\n",
    "print(e == 0)\n",
    "print(np.sum(e != 0))"
   ],
   "metadata": {
    "collapsed": false
   }
  },
  {
   "cell_type": "code",
   "execution_count": 19,
   "outputs": [
    {
     "name": "stdout",
     "output_type": "stream",
     "text": [
      "['red', 'red', 'red', 'red', 'red', 'red', 'red', 'red']\n"
     ]
    }
   ],
   "source": [
    "from scipy.signal import medfilt\n",
    "\n",
    "data = [\"red\", \"red\", \"red\",\"red\",\"green\" ,\"red\",\"red\", \"red\"]\n",
    "color_to_value = {\"red\": 0, \"green\": 1}\n",
    "data_as_numbers = list(map(lambda x: color_to_value[x], data))\n",
    "\n",
    "filtered_data = medfilt(data_as_numbers, kernel_size=5)\n",
    "value_to_color = {0: \"red\", 1: \"green\"}\n",
    "filtered_data_as_colors = list(map(lambda x: value_to_color[x], filtered_data))\n",
    "\n",
    "print(filtered_data_as_colors)"
   ],
   "metadata": {
    "collapsed": false
   }
  },
  {
   "cell_type": "code",
   "execution_count": 24,
   "outputs": [
    {
     "name": "stdout",
     "output_type": "stream",
     "text": [
      "[1, 1, 1, 1, 0, 1, 1, 1, 1, 0, 0, 0, 0, 0, 1, 0, 0, 0, 0]\n",
      "['red', 'red', 'red', 'red', 'green', 'red', 'red', 'red', 'red', 'green', 'green', 'green', 'green', 'green', 'red', 'green', 'green', 'green', 'green']\n",
      "{0: 'red', 1: 'red', 2: 'red', 3: 'red', 4: 'green', 5: 'red', 6: 'red', 7: 'red', 8: 'red', 9: 'green', 10: 'green', 11: 'green', 12: 'green', 13: 'green', 14: 'red', 15: 'green', 16: 'green', 17: 'green', 18: 'green'}\n"
     ]
    }
   ],
   "source": [
    "voiced_unvoiced_segments = dict()\n",
    "voiced_unvoiced_segments.update(zip(range(50), [\"red\", \"red\", \"red\", \"red\", \"green\", \"red\", \"red\", \"red\", \"red\", \"green\", \"green\", \"green\", \"green\", \"green\", \"red\", \"green\", \"green\", \"green\", \"green\", ]))\n",
    "color_to_value = {\"red\": 1, \"green\": 0}\n",
    "data_as_numbers = list(map(lambda x: color_to_value[x],voiced_unvoiced_segments.values()))\n",
    "print(data_as_numbers)\n",
    "temp_list = medfilt(data_as_numbers, kernel_size=5)\n",
    "value_to_color = {1: \"red\", 0: \"green\"}\n",
    "numbers_as_data = list(map(lambda x: value_to_color[x], data_as_numbers))\n",
    "print(numbers_as_data)\n",
    "voiced_unvoiced_segments.update(zip(voiced_unvoiced_segments.keys(), numbers_as_data))\n",
    "\n",
    "print(voiced_unvoiced_segments)"
   ],
   "metadata": {
    "collapsed": false
   }
  },
  {
   "cell_type": "code",
   "execution_count": 10,
   "outputs": [
    {
     "name": "stdout",
     "output_type": "stream",
     "text": [
      "[0.25  0.    1.    0.    0.    0.625 0.75  0.875]\n"
     ]
    }
   ],
   "source": [
    "import numpy as np\n",
    "\n",
    "a = np.array([4, 2, 10, 2, 2, 7, 8, 9])\n",
    "print((a - min(a)) / (max(a) - min(a)))"
   ],
   "metadata": {
    "collapsed": false
   }
  },
  {
   "cell_type": "code",
   "execution_count": null,
   "outputs": [],
   "source": [],
   "metadata": {
    "collapsed": false
   }
  }
 ],
 "metadata": {
  "kernelspec": {
   "display_name": "Python 3",
   "language": "python",
   "name": "python3"
  },
  "language_info": {
   "codemirror_mode": {
    "name": "ipython",
    "version": 2
   },
   "file_extension": ".py",
   "mimetype": "text/x-python",
   "name": "python",
   "nbconvert_exporter": "python",
   "pygments_lexer": "ipython2",
   "version": "2.7.6"
  }
 },
 "nbformat": 4,
 "nbformat_minor": 0
}
